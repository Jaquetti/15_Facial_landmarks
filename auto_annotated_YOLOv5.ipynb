{
  "nbformat": 4,
  "nbformat_minor": 0,
  "metadata": {
    "colab": {
      "name": "auto-annotated YOLOv5.ipynb",
      "provenance": [],
      "mount_file_id": "1h2lyp3JCc-TeGJP_NCO7qT4-vxMPXc6A",
      "authorship_tag": "ABX9TyOTjB8KHWCxi7vqM8xCdLsT"
    },
    "kernelspec": {
      "name": "python3",
      "display_name": "Python 3"
    },
    "language_info": {
      "name": "python"
    },
    "accelerator": "GPU"
  },
  "cells": [
    {
      "cell_type": "code",
      "metadata": {
        "colab": {
          "base_uri": "https://localhost:8080/"
        },
        "id": "ZfYSCnL8TmbV",
        "outputId": "d512acef-2db0-47a8-cdbf-0fafcd19791e"
      },
      "source": [
        "!ls"
      ],
      "execution_count": 1,
      "outputs": [
        {
          "output_type": "stream",
          "name": "stdout",
          "text": [
            "drive  sample_data\n"
          ]
        }
      ]
    },
    {
      "cell_type": "code",
      "metadata": {
        "id": "rnsVmtRJbavn"
      },
      "source": [
        "import torch\n",
        "import numpy as np\n",
        "import cv2\n",
        "from PIL import Image\n",
        "import matplotlib.pyplot as plt\n",
        "import os"
      ],
      "execution_count": 31,
      "outputs": []
    },
    {
      "cell_type": "code",
      "metadata": {
        "id": "2q6XJ6lER16V"
      },
      "source": [
        "#Lendo modelo\n",
        "model = torch.hub.load('/content/drive/MyDrive/yolov5_LIV/yolov5', 'custom', path='/content/drive/MyDrive/yolov5_LIV/yolov5/runs/train/exp59/weights/best.pt', source='local') \n",
        "\n",
        "#Modelo irá mostrar apenas predições com 70% de certeza\n",
        "model.conf = 0.7"
      ],
      "execution_count": null,
      "outputs": []
    },
    {
      "cell_type": "code",
      "metadata": {
        "colab": {
          "base_uri": "https://localhost:8080/",
          "height": 443
        },
        "id": "8JzXN_Ut0SYR",
        "outputId": "10265cdb-d07e-439e-ab42-4177c5857e2f"
      },
      "source": [
        "#Setando o caminho onde o vídeo está localizado\n",
        "path_video = '/content/drive/MyDrive/video/v1.mp4'\n",
        "\n",
        "#Caminho onde os arquivos serão salvos\n",
        "save_path = '/content/drive/MyDrive/imagens_auto_anotadas/'\n",
        "\n",
        "try:\n",
        "  os.mkdir( '/content/drive/MyDrive/imagens_auto_anotadas/')\n",
        "  print('Criando o diretório')\n",
        "except:\n",
        "  print('Diretório encontrado')\n",
        "\n",
        "#Carregando o vídeo \n",
        "cap = cv2.VideoCapture(path_video)\n",
        "\n",
        "#Variáveis para se utilizar no salvamento dos frames e anotações\n",
        "num_frame = 0\n",
        "name_frame = path_vid.rsplit('/',1)[1].rsplit('.',1)[0]+'_frame_'\n",
        "\n",
        "\n",
        "#Rodando o loop equanto o vídeo não estiver finalizado \n",
        "while True:\n",
        "  \n",
        "  #Lendo cada Frame\n",
        "  ret, frame = cap.read()\n",
        "  \n",
        "  #Variáveis para salvamento\n",
        "  num_frame +=1 \n",
        "  save_name = name_frame+str(num_frame)\n",
        "  \n",
        "  if ret == True:\n",
        "      #Converten do tipo numpy array para PIL.image (aumenta a precisão por algum motivo)\n",
        "      frame_pil = cv2.cvtColor(frame, cv2.COLOR_BGR2RGB)\n",
        "      frame_pil = Image.fromarray(frame)\n",
        "\n",
        "      #Enviando a imagem para a rede\n",
        "      results = model(frame_pil,  size=1280)\n",
        "      \n",
        "      #Transformando as predições do modelo em formato pandas DataFrame \n",
        "      dados = results.pandas().xyxy[0]\n",
        "      \n",
        "      #Realizando o préprocessamento necessário para transformar as predições no \n",
        "      #formato padrão das anotações do modelo YOLO \n",
        "      im_w, im_h = im.size\n",
        "      dados = dados[['class','xmin', 'ymin', 'xmax', 'ymax']]\n",
        "      dados['W'] = dados['xmax']-dados['xmin']\n",
        "      dados['H'] = dados['ymax']-dados['ymin']\n",
        "      dados['Norm(xMin)'] = (dados['xmin']+(dados['W']/2))/im_w\n",
        "      dados['Norm(yMin)'] = (dados['ymin']+(dados['H']/2))/im_h\n",
        "      dados['Norm(W)'] = (dados['W'])/im_w\n",
        "      dados['Norm(H)'] = (dados['H'])/im_h\n",
        "      dados = dados.drop(['xmin',\t'ymin',\t'xmax',\t'ymax', 'H','W'], axis = 1)\n",
        "\n",
        "      #Transformando o Dataframe em txt\n",
        "      textfile = open(save_path+save_name+\".txt\", \"w\")\n",
        "      for i in range(len(dados)):\n",
        "          lista = dados.iloc[i].to_list()\n",
        "          lista[0] = int(lista[0])\n",
        "          listToStr = ' '.join(map(str, lista))\n",
        "          textfile.write(listToStr + \"\\n\")\n",
        "\n",
        "      textfile.close()\n",
        "      cv2.imwrite(save_path+save_name+\".jpg\", frame)\n",
        "\n"
      ],
      "execution_count": 36,
      "outputs": [
        {
          "output_type": "stream",
          "name": "stdout",
          "text": [
            "Criando o diretório\n",
            "Diretório encontrado\n"
          ]
        },
        {
          "output_type": "stream",
          "name": "stderr",
          "text": [
            "/usr/local/lib/python3.7/dist-packages/ipykernel_launcher.py:46: SettingWithCopyWarning: \n",
            "A value is trying to be set on a copy of a slice from a DataFrame.\n",
            "Try using .loc[row_indexer,col_indexer] = value instead\n",
            "\n",
            "See the caveats in the documentation: https://pandas.pydata.org/pandas-docs/stable/user_guide/indexing.html#returning-a-view-versus-a-copy\n",
            "/usr/local/lib/python3.7/dist-packages/ipykernel_launcher.py:46: SettingWithCopyWarning: \n",
            "A value is trying to be set on a copy of a slice from a DataFrame.\n",
            "Try using .loc[row_indexer,col_indexer] = value instead\n",
            "\n",
            "See the caveats in the documentation: https://pandas.pydata.org/pandas-docs/stable/user_guide/indexing.html#returning-a-view-versus-a-copy\n"
          ]
        },
        {
          "output_type": "error",
          "ename": "KeyboardInterrupt",
          "evalue": "ignored",
          "traceback": [
            "\u001b[0;31m---------------------------------------------------------------------------\u001b[0m",
            "\u001b[0;31mKeyboardInterrupt\u001b[0m                         Traceback (most recent call last)",
            "\u001b[0;32m<ipython-input-36-abed686d5d68>\u001b[0m in \u001b[0;36m<module>\u001b[0;34m()\u001b[0m\n\u001b[1;32m     23\u001b[0m \u001b[0;34m\u001b[0m\u001b[0m\n\u001b[1;32m     24\u001b[0m   \u001b[0;31m#Lendo cada Frame\u001b[0m\u001b[0;34m\u001b[0m\u001b[0;34m\u001b[0m\u001b[0;34m\u001b[0m\u001b[0m\n\u001b[0;32m---> 25\u001b[0;31m   \u001b[0mret\u001b[0m\u001b[0;34m,\u001b[0m \u001b[0mframe\u001b[0m \u001b[0;34m=\u001b[0m \u001b[0mcap\u001b[0m\u001b[0;34m.\u001b[0m\u001b[0mread\u001b[0m\u001b[0;34m(\u001b[0m\u001b[0;34m)\u001b[0m\u001b[0;34m\u001b[0m\u001b[0;34m\u001b[0m\u001b[0m\n\u001b[0m\u001b[1;32m     26\u001b[0m \u001b[0;34m\u001b[0m\u001b[0m\n\u001b[1;32m     27\u001b[0m   \u001b[0;31m#Variáveis para salvamento\u001b[0m\u001b[0;34m\u001b[0m\u001b[0;34m\u001b[0m\u001b[0;34m\u001b[0m\u001b[0m\n",
            "\u001b[0;31mKeyboardInterrupt\u001b[0m: "
          ]
        }
      ]
    },
    {
      "cell_type": "code",
      "metadata": {
        "id": "-ert86EVsEHm"
      },
      "source": [
        "im = Image.open('/content/drive/MyDrive/video/v1.mp4')"
      ],
      "execution_count": 5,
      "outputs": []
    },
    {
      "cell_type": "code",
      "metadata": {
        "colab": {
          "base_uri": "https://localhost:8080/"
        },
        "id": "499WVvz1TZpH",
        "outputId": "db6d65c2-e92c-4215-c21d-6e351a36de9b"
      },
      "source": [
        "results = model(im,  size=1280)"
      ],
      "execution_count": 6,
      "outputs": [
        {
          "output_type": "stream",
          "name": "stderr",
          "text": [
            "/usr/local/lib/python3.7/dist-packages/torch/functional.py:445: UserWarning: torch.meshgrid: in an upcoming release, it will be required to pass the indexing argument. (Triggered internally at  ../aten/src/ATen/native/TensorShape.cpp:2157.)\n",
            "  return _VF.meshgrid(tensors, **kwargs)  # type: ignore[attr-defined]\n"
          ]
        }
      ]
    },
    {
      "cell_type": "code",
      "metadata": {
        "id": "gbYWFkUDW3Wn"
      },
      "source": [
        "dados = results.pandas().xyxy[0]"
      ],
      "execution_count": 7,
      "outputs": []
    },
    {
      "cell_type": "code",
      "metadata": {
        "colab": {
          "base_uri": "https://localhost:8080/"
        },
        "id": "Qt1JqW-fY8Is",
        "outputId": "51908e35-fd16-4b0a-a20d-121b1101dd0c"
      },
      "source": [
        "im_w, im_h = im.size\n",
        "\n",
        "dados = dados[['class','xmin', 'ymin', 'xmax', 'ymax']]\n",
        "dados['W'] = dados['xmax']-dados['xmin']\n",
        "dados['H'] = dados['ymax']-dados['ymin']\n",
        "dados['Norm(xMin)'] = (dados['xmin']+(dados['W']/2))/im_w\n",
        "dados['Norm(yMin)'] = (dados['ymin']+(dados['H']/2))/im_h\n",
        "dados['Norm(W)'] = (dados['W'])/im_w\n",
        "dados['Norm(H)'] = (dados['H'])/im_h"
      ],
      "execution_count": 8,
      "outputs": [
        {
          "output_type": "stream",
          "name": "stderr",
          "text": [
            "/usr/local/lib/python3.7/dist-packages/ipykernel_launcher.py:4: SettingWithCopyWarning: \n",
            "A value is trying to be set on a copy of a slice from a DataFrame.\n",
            "Try using .loc[row_indexer,col_indexer] = value instead\n",
            "\n",
            "See the caveats in the documentation: https://pandas.pydata.org/pandas-docs/stable/user_guide/indexing.html#returning-a-view-versus-a-copy\n",
            "  after removing the cwd from sys.path.\n"
          ]
        }
      ]
    },
    {
      "cell_type": "code",
      "metadata": {
        "colab": {
          "base_uri": "https://localhost:8080/",
          "height": 269
        },
        "id": "y5YPJG8kZRyg",
        "outputId": "b0d51eec-2194-4bbc-acb3-40f85af63bc1"
      },
      "source": [
        "dados = dados.drop(['xmin',\t'ymin',\t'xmax',\t'ymax', 'H','W'], axis = 1)\n",
        "dados.head(10)"
      ],
      "execution_count": 168,
      "outputs": [
        {
          "output_type": "execute_result",
          "data": {
            "text/html": [
              "<div>\n",
              "<style scoped>\n",
              "    .dataframe tbody tr th:only-of-type {\n",
              "        vertical-align: middle;\n",
              "    }\n",
              "\n",
              "    .dataframe tbody tr th {\n",
              "        vertical-align: top;\n",
              "    }\n",
              "\n",
              "    .dataframe thead th {\n",
              "        text-align: right;\n",
              "    }\n",
              "</style>\n",
              "<table border=\"1\" class=\"dataframe\">\n",
              "  <thead>\n",
              "    <tr style=\"text-align: right;\">\n",
              "      <th></th>\n",
              "      <th>class</th>\n",
              "      <th>Norm(xMin)</th>\n",
              "      <th>Norm(yMin)</th>\n",
              "      <th>Norm(W)</th>\n",
              "      <th>Norm(H)</th>\n",
              "    </tr>\n",
              "  </thead>\n",
              "  <tbody>\n",
              "    <tr>\n",
              "      <th>0</th>\n",
              "      <td>0</td>\n",
              "      <td>0.492188</td>\n",
              "      <td>0.378906</td>\n",
              "      <td>0.014844</td>\n",
              "      <td>0.034091</td>\n",
              "    </tr>\n",
              "    <tr>\n",
              "      <th>1</th>\n",
              "      <td>5</td>\n",
              "      <td>0.506641</td>\n",
              "      <td>0.378995</td>\n",
              "      <td>0.014063</td>\n",
              "      <td>0.031783</td>\n",
              "    </tr>\n",
              "    <tr>\n",
              "      <th>2</th>\n",
              "      <td>0</td>\n",
              "      <td>0.593750</td>\n",
              "      <td>0.386719</td>\n",
              "      <td>0.015625</td>\n",
              "      <td>0.034801</td>\n",
              "    </tr>\n",
              "    <tr>\n",
              "      <th>3</th>\n",
              "      <td>4</td>\n",
              "      <td>0.567187</td>\n",
              "      <td>0.384588</td>\n",
              "      <td>0.014844</td>\n",
              "      <td>0.034801</td>\n",
              "    </tr>\n",
              "    <tr>\n",
              "      <th>4</th>\n",
              "      <td>6</td>\n",
              "      <td>0.552734</td>\n",
              "      <td>0.383168</td>\n",
              "      <td>0.014063</td>\n",
              "      <td>0.033381</td>\n",
              "    </tr>\n",
              "    <tr>\n",
              "      <th>5</th>\n",
              "      <td>9</td>\n",
              "      <td>0.521094</td>\n",
              "      <td>0.381392</td>\n",
              "      <td>0.014063</td>\n",
              "      <td>0.032670</td>\n",
              "    </tr>\n",
              "    <tr>\n",
              "      <th>6</th>\n",
              "      <td>8</td>\n",
              "      <td>0.538672</td>\n",
              "      <td>0.382457</td>\n",
              "      <td>0.014063</td>\n",
              "      <td>0.033381</td>\n",
              "    </tr>\n",
              "  </tbody>\n",
              "</table>\n",
              "</div>"
            ],
            "text/plain": [
              "   class  Norm(xMin)  Norm(yMin)   Norm(W)   Norm(H)\n",
              "0      0    0.492188    0.378906  0.014844  0.034091\n",
              "1      5    0.506641    0.378995  0.014063  0.031783\n",
              "2      0    0.593750    0.386719  0.015625  0.034801\n",
              "3      4    0.567187    0.384588  0.014844  0.034801\n",
              "4      6    0.552734    0.383168  0.014063  0.033381\n",
              "5      9    0.521094    0.381392  0.014063  0.032670\n",
              "6      8    0.538672    0.382457  0.014063  0.033381"
            ]
          },
          "metadata": {},
          "execution_count": 168
        }
      ]
    },
    {
      "cell_type": "code",
      "metadata": {
        "colab": {
          "base_uri": "https://localhost:8080/"
        },
        "id": "yl1b29bSqxol",
        "outputId": "ded19002-7e10-4fbc-ebee-a8471ef1d43e"
      },
      "source": [
        "len(dados)"
      ],
      "execution_count": 121,
      "outputs": [
        {
          "output_type": "execute_result",
          "data": {
            "text/plain": [
              "7"
            ]
          },
          "metadata": {},
          "execution_count": 121
        }
      ]
    },
    {
      "cell_type": "code",
      "metadata": {
        "colab": {
          "base_uri": "https://localhost:8080/"
        },
        "id": "JB7xuCyeosTZ",
        "outputId": "de1531d7-769e-408f-98cd-c2554e3670b8"
      },
      "source": [
        "textfile = open(\"/content/baixados (6).txt\", \"w\")\n",
        "for i in range(len(dados)):\n",
        "  lista = dados.iloc[i].to_list()\n",
        "  lista[0] = int(lista[0])\n",
        "  print(lista)\n",
        "  listToStr = ' '.join(map(str, lista))\n",
        "  textfile.write(listToStr + \"\\n\")\n",
        "\n",
        "textfile.close()\n",
        "\n",
        "\n",
        "\n",
        "    \n",
        "\n"
      ],
      "execution_count": 173,
      "outputs": [
        {
          "output_type": "stream",
          "name": "stdout",
          "text": [
            "[0, 0.4921875, 0.37890625, 0.01484375, 0.03409090909090909]\n",
            "[5, 0.506640625, 0.3789950284090909, 0.0140625, 0.031782670454545456]\n",
            "[0, 0.59375, 0.38671875, 0.015625, 0.03480113636363636]\n",
            "[4, 0.5671875, 0.3845880681818182, 0.01484375, 0.03480113636363636]\n",
            "[6, 0.552734375, 0.38316761363636365, 0.0140625, 0.033380681818181816]\n",
            "[9, 0.52109375, 0.38139204545454547, 0.0140625, 0.032670454545454544]\n",
            "[8, 0.538671875, 0.38245738636363635, 0.0140625, 0.033380681818181816]\n"
          ]
        }
      ]
    },
    {
      "cell_type": "code",
      "metadata": {
        "colab": {
          "base_uri": "https://localhost:8080/"
        },
        "id": "burW6YD8uPQR",
        "outputId": "442b4f5f-be71-4b64-f504-86b45cab357b"
      },
      "source": [
        "\n",
        "for i in range(len(dados)):\n",
        "  lista = dados.iloc[i].to_list()\n",
        "  lista[0] = int(lista[0])\n",
        " \n",
        "  listToStr = ' '.join(map(str, lista))\n",
        "  print(listToStr)\n",
        "\n"
      ],
      "execution_count": 171,
      "outputs": [
        {
          "output_type": "stream",
          "name": "stdout",
          "text": [
            "0 0.4921875 0.37890625 0.01484375 0.03409090909090909\n",
            "5 0.506640625 0.3789950284090909 0.0140625 0.031782670454545456\n",
            "0 0.59375 0.38671875 0.015625 0.03480113636363636\n",
            "4 0.5671875 0.3845880681818182 0.01484375 0.03480113636363636\n",
            "6 0.552734375 0.38316761363636365 0.0140625 0.033380681818181816\n",
            "9 0.52109375 0.38139204545454547 0.0140625 0.032670454545454544\n",
            "8 0.538671875 0.38245738636363635 0.0140625 0.033380681818181816\n"
          ]
        }
      ]
    },
    {
      "cell_type": "code",
      "metadata": {
        "id": "Gnz37MTha8MV"
      },
      "source": [
        "np.savetxt(r'/content/baixados (6).txt', dados.values, fmt='%s')\n"
      ],
      "execution_count": 111,
      "outputs": []
    },
    {
      "cell_type": "code",
      "metadata": {
        "id": "WKmw5uNpbWpM"
      },
      "source": [
        ""
      ],
      "execution_count": null,
      "outputs": []
    }
  ]
}